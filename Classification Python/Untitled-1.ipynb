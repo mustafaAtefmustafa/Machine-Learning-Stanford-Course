{
 "cells": [
  {
   "cell_type": "code",
   "execution_count": 251,
   "metadata": {},
   "outputs": [],
   "source": [
    "# Imports\n",
    "import numpy as np\n",
    "import pandas as pd \n",
    "import matplotlib.pyplot as plt \n",
    "import scipy.optimize as opt "
   ]
  },
  {
   "cell_type": "code",
   "execution_count": 252,
   "metadata": {},
   "outputs": [],
   "source": [
    "# Read Data\n",
    "path = 'D:\\\\Andrew NG Tasks\\\\Classification Python\\\\ex2data1.txt'\n",
    "data = pd.read_csv(path, header=None, names=['Exam1', 'Exam2', 'Admitted'])"
   ]
  },
  {
   "cell_type": "code",
   "execution_count": 253,
   "metadata": {},
   "outputs": [
    {
     "name": "stdout",
     "output_type": "stream",
     "text": [
      "Data = \n",
      "       Exam1      Exam2  Admitted\n",
      "0  34.623660  78.024693         0\n",
      "1  30.286711  43.894998         0\n",
      "2  35.847409  72.902198         0\n",
      "3  60.182599  86.308552         1\n",
      "4  79.032736  75.344376         1\n",
      "5  45.083277  56.316372         0\n",
      "6  61.106665  96.511426         1\n",
      "7  75.024746  46.554014         1\n",
      "8  76.098787  87.420570         1\n",
      "9  84.432820  43.533393         1\n"
     ]
    }
   ],
   "source": [
    "# Show info of the data\n",
    "print('Data = ')\n",
    "print(data.head(10))"
   ]
  },
  {
   "cell_type": "code",
   "execution_count": 254,
   "metadata": {},
   "outputs": [
    {
     "name": "stdout",
     "output_type": "stream",
     "text": [
      "Admitted \n",
      "         Exam1      Exam2  Admitted\n",
      "4   79.032736  75.344376         1\n",
      "6   61.106665  96.511426         1\n",
      "7   75.024746  46.554014         1\n",
      "8   76.098787  87.420570         1\n",
      "9   84.432820  43.533393         1\n",
      "12  82.307053  76.481963         1\n",
      "13  69.364589  97.718692         1\n",
      "15  53.971052  89.207350         1\n",
      "16  69.070144  52.740470         1\n",
      "===========================\n",
      "Not Admitted \n",
      "         Exam1      Exam2  Admitted\n",
      "1   30.286711  43.894998         0\n",
      "2   35.847409  72.902198         0\n",
      "5   45.083277  56.316372         0\n",
      "10  95.861555  38.225278         0\n",
      "11  75.013658  30.603263         0\n",
      "14  39.538339  76.036811         0\n",
      "17  67.946855  46.678574         0\n",
      "20  67.372028  42.838438         0\n",
      "22  50.534788  48.855812         0\n"
     ]
    }
   ],
   "source": [
    "positive = data[data['Admitted'].isin([1])]\n",
    "negative = data[data['Admitted'].isin([0])]\n",
    "print('Admitted \\n', positive[1:10])\n",
    "print('===========================')\n",
    "print('Not Admitted \\n', negative[1:10])"
   ]
  },
  {
   "cell_type": "code",
   "execution_count": 255,
   "metadata": {},
   "outputs": [
    {
     "data": {
      "text/plain": [
       "Text(0, 0.5, 'Exam2 score')"
      ]
     },
     "execution_count": 255,
     "metadata": {},
     "output_type": "execute_result"
    },
    {
     "data": {
      "image/png": "[encoded data removed]",
      "text/plain": [
       "<Figure size 432x288 with 1 Axes>"
      ]
     },
     "metadata": {
      "needs_background": "light"
     },
     "output_type": "display_data"
    }
   ],
   "source": [
    "# Plot the data\n",
    "fig, ax = plt.subplots()\n",
    "ax.scatter(positive['Exam1'], positive['Exam2'], c='b', marker='o', label='Admitted')\n",
    "ax.scatter(negative['Exam1'], negative['Exam2'], c='r', marker='x', label='Not Admitted')\n",
    "ax.legend()\n",
    "ax.set_xlabel('Exam1 score')\n",
    "ax.set_ylabel('Exam2 score')\n"
   ]
  },
  {
   "cell_type": "code",
   "execution_count": 256,
   "metadata": {},
   "outputs": [],
   "source": [
    "# Cost function.\n",
    "def sigmoid(z):\n",
    "    return 1 / (1 + np.exp(-z))\n",
    "\n",
    "def cost(theta, X, y):\n",
    "    theta = np.matrix(theta)\n",
    "    X = np.matrix(X)\n",
    "    y = np.matrix(y)\n",
    "    first = np.multiply(-y, np.log(sigmoid(X * theta.T)))\n",
    "    second = np.multiply((1-y), np.log(1-sigmoid(X * theta.T)))\n",
    "    return np.sum(first - second) / (len(X))"
   ]
  },
  {
   "cell_type": "code",
   "execution_count": 257,
   "metadata": {},
   "outputs": [
    {
     "name": "stdout",
     "output_type": "stream",
     "text": [
      "New data \n",
      "    Ones      Exam1      Exam2  Admitted\n",
      "1     1  30.286711  43.894998         0\n",
      "2     1  35.847409  72.902198         0\n",
      "3     1  60.182599  86.308552         1\n",
      "4     1  79.032736  75.344376         1\n",
      "5     1  45.083277  56.316372         0\n",
      "6     1  61.106665  96.511426         1\n",
      "7     1  75.024746  46.554014         1\n",
      "8     1  76.098787  87.420570         1\n",
      "9     1  84.432820  43.533393         1\n",
      "Cost when theta (0,0,0) = \n",
      " 0.6931471805599453\n"
     ]
    }
   ],
   "source": [
    "# Add ones to the data\n",
    "data.insert(0, 'Ones', 1)\n",
    "print('New data \\n', data[1:10])\n",
    "\n",
    "# Set X and y\n",
    "cols = data.shape[1]\n",
    "X = data.iloc[:, 0:cols-1]\n",
    "y = data.iloc[:,cols-1:cols]\n",
    "#print('X = \\n', X[1:10])\n",
    "#print('y = \\n', y[1:10])\n",
    "\n",
    "# Convert to numpy array\n",
    "X = np.array(X.values)\n",
    "y = np.array(y.values)\n",
    "theta = np.zeros(X.shape[1])\n",
    "\n",
    "# Calculate the cost\n",
    "this_cost = cost(theta, X, y)\n",
    "print('Cost when theta (0,0,0) = \\n', this_cost)"
   ]
  },
  {
   "cell_type": "code",
   "execution_count": 258,
   "metadata": {},
   "outputs": [],
   "source": [
    "# Calcualte Gradient\n",
    "def gradient(theta, X, y):\n",
    "    theta = np.matrix(theta)\n",
    "    X = np.matrix(X)\n",
    "    y = np.matrix(y)\n",
    "\n",
    "    parameters = int(theta.ravel().shape[1])\n",
    "    grad = np.zeros(parameters)\n",
    "\n",
    "    error = sigmoid(X * theta.T) - y\n",
    "    \n",
    "    for i in range(parameters):\n",
    "        term = np.multiply(error, X[:,i])\n",
    "        grad[i] = np.sum(term) / (len(X))\n",
    "\n",
    "    return grad"
   ]
  },
  {
   "cell_type": "code",
   "execution_count": 259,
   "metadata": {},
   "outputs": [
    {
     "name": "stdout",
     "output_type": "stream",
     "text": [
      "Cost after learning = \n",
      " 0.20349770158947447\n"
     ]
    }
   ],
   "source": [
    "# Calculate parametes using an optimiztion function (fmin_tnc)\n",
    "result = opt.fmin_tnc(func=cost, x0=theta, fprime=gradient, args=(X, y))\n",
    "cost_after_opt = cost(result[0], X, y)\n",
    "print('Cost after learning = \\n', cost_after_opt)"
   ]
  },
  {
   "cell_type": "code",
   "execution_count": 260,
   "metadata": {},
   "outputs": [
    {
     "name": "stdout",
     "output_type": "stream",
     "text": [
      "Accuracy = 89%\n"
     ]
    }
   ],
   "source": [
    "# Predict\n",
    "def predict(theta, X):\n",
    "    probability = sigmoid(X * theta.T)\n",
    "    return[1 if x>=0.5 else 0 for x in probability]\n",
    "\n",
    "theta_learned = np.matrix(result[0])\n",
    "predictions = predict(theta_learned, X)\n",
    "correct = [1 if (a == b) else 0 for (a,b) in zip(predictions, y)]\n",
    "accuracy = sum(map(int,correct)) % len(correct)\n",
    "print('Accuracy = {0}%'.format(accuracy))"
   ]
  }
 ],
 "metadata": {
  "kernelspec": {
   "display_name": "Python 3.10.5 64-bit (windows store)",
   "language": "python",
   "name": "python3"
  },
  "language_info": {
   "codemirror_mode": {
    "name": "ipython",
    "version": 3
   },
   "file_extension": ".py",
   "mimetype": "text/x-python",
   "name": "python",
   "nbconvert_exporter": "python",
   "pygments_lexer": "ipython3",
   "version": "3.10.6"
  },
  "orig_nbformat": 4,
  "vscode": {
   "interpreter": {
    "hash": "c72db2ce87084d136edb9e427020e35dcc5108ef0653c9d69502f15470a20904"
   }
  }
 },
 "nbformat": 4,
 "nbformat_minor": 2
}
